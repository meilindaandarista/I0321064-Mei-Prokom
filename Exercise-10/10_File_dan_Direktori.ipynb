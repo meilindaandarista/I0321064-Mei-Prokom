{
 "cells": [
  {
   "cell_type": "markdown",
   "metadata": {},
   "source": [
    "***\n",
    "<h1 align=\"center\">Exercise 10</h1>\n",
    " \n",
    "***\n",
    "## Membaca File per Baris\n",
    "Buka file *puisi.txt* yang ada pada direktori ./data.\n",
    "Buat program seperti di bawah untuk membaca per baris file *puisi.txt*.\n",
    "![](./images/10_openPuisi.png)\n",
    "Kemudian coba jalankan program yang kalian buat."
   ]
  },
  {
   "cell_type": "code",
   "execution_count": 1,
   "metadata": {},
   "outputs": [
    {
     "name": "stdout",
     "output_type": "stream",
     "text": [
      "['Engkau bahkan bukan lagi variabel bagiku\\n', 'Engkau adalah konstanta abadi yang tak tergantikan...']\n"
     ]
    }
   ],
   "source": [
    "# Kerjakan disini\n",
    "file_puisi = open(\"./data/puisi.txt\", \"r\")\n",
    "print(file_puisi.readlines())\n",
    "file_puisi.close()\n",
    "# Jangan hapus kode di bawah ini \n",
    "%reset -f"
   ]
  },
  {
   "cell_type": "markdown",
   "metadata": {},
   "source": [
    "## Membaca Semua Teks dalam File\n",
    "Buat program seperti di bawah untuk membaca semua teks dalam file *puisi.txt*.\n",
    "![](./images/10_puisiRead.png)\n",
    "Kemudian coba jalankan program yang kalian buat."
   ]
  },
  {
   "cell_type": "code",
   "execution_count": 2,
   "metadata": {},
   "outputs": [
    {
     "name": "stdout",
     "output_type": "stream",
     "text": [
      "Engkau bahkan bukan lagi variabel bagiku\n",
      "Engkau adalah konstanta abadi yang tak tergantikan...\n"
     ]
    }
   ],
   "source": [
    "# Kerjakan disini\n",
    "file_puisi = open(\"./data/puisi.txt\", \"r\")\n",
    "puisi = file_puisi.read()\n",
    "print(puisi)\n",
    "file_puisi.close()\n",
    "# Jangan hapus kode di bawah ini \n",
    "%reset -f"
   ]
  },
  {
   "cell_type": "markdown",
   "metadata": {},
   "source": [
    "## Menulis File\n",
    "Buat kode program seperti di bawah!\n",
    "![](./images/10_writeBio.png)\n",
    "Setelah itu, coba jalankan kode yang dibuat dan inputkan contoh data berupa nama, umur, dan alamat (Tidak harus data asli)."
   ]
  },
  {
   "cell_type": "code",
   "execution_count": null,
   "metadata": {},
   "outputs": [],
   "source": [
    "# Kerjakan disini\n",
    "\n",
    "# Jangan hapus kode di bawah ini \n",
    "%reset -f"
   ]
  },
  {
   "cell_type": "markdown",
   "metadata": {},
   "source": [
    "Perhatikan bahwa terdapat file baru bernama *biodata.txt* di *./data*. coba buka file tersebut untuk melihat data yang dimasukkan."
   ]
  },
  {
   "cell_type": "markdown",
   "metadata": {},
   "source": [
    "## Menyisipkan File\n",
    "Untuk menyisipkan file, atur mode ketika membuka file menjadi *append*/\"a\".\n",
    "Setelah diubah, jalankan kode tersebut dan inputkan data yang berbeda."
   ]
  },
  {
   "cell_type": "code",
   "execution_count": null,
   "metadata": {},
   "outputs": [],
   "source": [
    "print(\"Selamat Datang di Program Biodata\")\n",
    "print(\"=================================\")\n",
    "\n",
    "# Mengambil input dari user\n",
    "nama = input(\"Nama: \")\n",
    "umur = input(\"Umur: \")\n",
    "alamat = input(\"Alamat: \")\n",
    "\n",
    "# Format teks\n",
    "teks = \"Nama: {}\\nUmur: {}\\nAlamat: {}\\n\".format(nama, umur, alamat)\n",
    "\n",
    "# Buka file untuk ditulis\n",
    "file_bio = open(\"./data/biodata.txt\",\"a\")\n",
    "\n",
    "# Tulis teks ke dalam file\n",
    "file_bio.write(teks)\n",
    "\n",
    "# Tutup file\n",
    "file_bio.close()\n",
    "\n",
    "%reset -f"
   ]
  },
  {
   "cell_type": "markdown",
   "metadata": {},
   "source": [
    "Buka file *biodata.txt* dan lihat bahwa terdapat entri data baru."
   ]
  },
  {
   "cell_type": "markdown",
   "metadata": {},
   "source": [
    "## Membuat Direktori\n",
    "Buatlah kode program seperti di bawah ini.\n",
    "![](./images/10_membuatDirektori.png)\n",
    "Jalankan program yang telah dibuat."
   ]
  },
  {
   "cell_type": "code",
   "execution_count": 5,
   "metadata": {},
   "outputs": [],
   "source": [
    "# Kerjakan disini\n",
    "import os\n",
    "def main():\n",
    "    os.mkdir(\"contoh direktori\")\n",
    "ifname =\"main\"\n",
    "main\n",
    "%reset -f"
   ]
  },
  {
   "cell_type": "markdown",
   "metadata": {},
   "source": [
    "Perhatikan bahwa sebuah direktori baru berhasil dibuat bernama *contoh direktori*."
   ]
  },
  {
   "cell_type": "markdown",
   "metadata": {},
   "source": [
    "## Mengubah Nama Direktori\n",
    "Buatlah kode program seperti dibawah ini.\n",
    "![](./images/10_renameDirektori.png)\n",
    "Jalankan program yang telah dibuat."
   ]
  },
  {
   "cell_type": "code",
   "execution_count": 9,
   "metadata": {},
   "outputs": [
    {
     "ename": "FileNotFoundError",
     "evalue": "[WinError 2] The system cannot find the file specified: 'contoh direktori' -> 'renamed'",
     "output_type": "error",
     "traceback": [
      "\u001b[1;31m---------------------------------------------------------------------------\u001b[0m",
      "\u001b[1;31mFileNotFoundError\u001b[0m                         Traceback (most recent call last)",
      "\u001b[1;32md:\\Praktikum Pemograman Komputer\\I0321064-Mei-Prokom\\Exercise-10\\10_File_dan_Direktori.ipynb Cell 15'\u001b[0m in \u001b[0;36m<cell line: 6>\u001b[1;34m()\u001b[0m\n\u001b[0;32m      <a href='vscode-notebook-cell:/d%3A/Praktikum%20Pemograman%20Komputer/I0321064-Mei-Prokom/Exercise-10/10_File_dan_Direktori.ipynb#ch0000014?line=3'>4</a>\u001b[0m     os\u001b[39m.\u001b[39mrename(\u001b[39m\"\u001b[39m\u001b[39mcontoh direktori\u001b[39m\u001b[39m\"\u001b[39m,\u001b[39m\"\u001b[39m\u001b[39mrenamed\u001b[39m\u001b[39m\"\u001b[39m)\n\u001b[0;32m      <a href='vscode-notebook-cell:/d%3A/Praktikum%20Pemograman%20Komputer/I0321064-Mei-Prokom/Exercise-10/10_File_dan_Direktori.ipynb#ch0000014?line=4'>5</a>\u001b[0m ifname: \u001b[39m\"\u001b[39m\u001b[39mmain\u001b[39m\u001b[39m\"\u001b[39m\n\u001b[1;32m----> <a href='vscode-notebook-cell:/d%3A/Praktikum%20Pemograman%20Komputer/I0321064-Mei-Prokom/Exercise-10/10_File_dan_Direktori.ipynb#ch0000014?line=5'>6</a>\u001b[0m main()\n\u001b[0;32m      <a href='vscode-notebook-cell:/d%3A/Praktikum%20Pemograman%20Komputer/I0321064-Mei-Prokom/Exercise-10/10_File_dan_Direktori.ipynb#ch0000014?line=6'>7</a>\u001b[0m get_ipython()\u001b[39m.\u001b[39mrun_line_magic(\u001b[39m'\u001b[39m\u001b[39mreset\u001b[39m\u001b[39m'\u001b[39m, \u001b[39m'\u001b[39m\u001b[39m-f\u001b[39m\u001b[39m'\u001b[39m)\n",
      "\u001b[1;32md:\\Praktikum Pemograman Komputer\\I0321064-Mei-Prokom\\Exercise-10\\10_File_dan_Direktori.ipynb Cell 15'\u001b[0m in \u001b[0;36mmain\u001b[1;34m()\u001b[0m\n\u001b[0;32m      <a href='vscode-notebook-cell:/d%3A/Praktikum%20Pemograman%20Komputer/I0321064-Mei-Prokom/Exercise-10/10_File_dan_Direktori.ipynb#ch0000014?line=2'>3</a>\u001b[0m \u001b[39mdef\u001b[39;00m \u001b[39mmain\u001b[39m():\n\u001b[1;32m----> <a href='vscode-notebook-cell:/d%3A/Praktikum%20Pemograman%20Komputer/I0321064-Mei-Prokom/Exercise-10/10_File_dan_Direktori.ipynb#ch0000014?line=3'>4</a>\u001b[0m     os\u001b[39m.\u001b[39;49mrename(\u001b[39m\"\u001b[39;49m\u001b[39mcontoh direktori\u001b[39;49m\u001b[39m\"\u001b[39;49m,\u001b[39m\"\u001b[39;49m\u001b[39mrenamed\u001b[39;49m\u001b[39m\"\u001b[39;49m)\n",
      "\u001b[1;31mFileNotFoundError\u001b[0m: [WinError 2] The system cannot find the file specified: 'contoh direktori' -> 'renamed'"
     ]
    }
   ],
   "source": [
    "# Kerjakan disini\n",
    "import os\n",
    "def main():\n",
    "    os.rename(\"contoh direktori\",\"renamed\")\n",
    "ifname: \"main\"\n",
    "main()\n",
    "%reset -f"
   ]
  },
  {
   "cell_type": "markdown",
   "metadata": {},
   "source": [
    "Perhatikan bahwa direktori *contoh direktori* telah berubah nama menjadi *renamed*."
   ]
  },
  {
   "cell_type": "markdown",
   "metadata": {},
   "source": [
    "## Menghapus Direktori\n",
    "Buatlah kode program seperti dibawah ini.\n",
    "![](./images/10_removeDirektori.png)\n",
    "Jalankan program yang telah dibuat."
   ]
  },
  {
   "cell_type": "code",
   "execution_count": null,
   "metadata": {},
   "outputs": [],
   "source": [
    "# Kerjakan disini\n"
   ]
  },
  {
   "cell_type": "markdown",
   "metadata": {},
   "source": [
    "Perhatikan bahwa direktori *renamed* telah hilang."
   ]
  },
  {
   "cell_type": "markdown",
   "metadata": {},
   "source": [
    "## Mengumpulkan Tugas\n",
    "Tugas yang telah anda kerjalan perlu di-push ke Repositori Github. Untuk melakukannya, ikuti langkah dibawah ini:\n",
    "1. Buka **New Terminal**\n",
    "2. Pastikan path pada terminal tersebut telah sesuai dengan folder repositori bernama \"NIM-Nama Depan-Prokom\" milik anda. Jika belum sesuai, ketikkan `cd \"<path>\"` pada **Terminal**.\n",
    "3. Ketikkan `git add .` pada **Terminal** untuk menambahkan semua perubahan pada *working directory*.\n",
    "4. Ketikkan `git commit -m \"<kata-kata yang menjelaskan apa yang kalian lakukan>\"` pada **Terminal**, misal `git commit -m \"mengerjakan exercise 01\"`. Hal ini dilakukan untuk menyimpan *snapshot* project dilengkapi dengan pesan deskripsi.\n",
    "5. Ketikkan `git branch`. Maka akan muncul nama *branch working directory* kalian, pada gambar di bawah, nama branchnya adalah <font color='green'>main</font>, tetapi ada kemungkinan juga branch kalian akan bernama <font color='green'>master</font>. Perhatikan nama branch kalian, karena nantinya akan digunakan pada langkah selanjutnya.\n",
    " ![](./images/01_branch.png)\n",
    "5. Ketikkan `git push -u origin <nama branch>` pada **Terminal** untuk meng-*push* perubahan yang dilakukan ke Git *repository*.\n",
    "6. Seharusnya tugas kalian telah ter*upload* kedalam repositori kalian. Kalian dapat memastikannya dengan membuka repositori kalian di browser."
   ]
  },
  {
   "cell_type": "markdown",
   "metadata": {},
   "source": [
    "***\n",
    "<h1 align=\"center\">Well Done!!!</h1> \n",
    "\n",
    "***"
   ]
  }
 ],
 "metadata": {
  "interpreter": {
   "hash": "8f5816e6188795d1cc8afa4306b69c5e3a103f064a75e820fe776234e4cf83e8"
  },
  "kernelspec": {
   "display_name": "Python 3.9.7 64-bit",
   "language": "python",
   "name": "python3"
  },
  "language_info": {
   "codemirror_mode": {
    "name": "ipython",
    "version": 3
   },
   "file_extension": ".py",
   "mimetype": "text/x-python",
   "name": "python",
   "nbconvert_exporter": "python",
   "pygments_lexer": "ipython3",
   "version": "3.9.7"
  },
  "orig_nbformat": 4
 },
 "nbformat": 4,
 "nbformat_minor": 2
}
